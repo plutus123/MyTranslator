{
 "cells": [
  {
   "cell_type": "markdown",
   "id": "8f9e68db-99d5-4307-96f6-f26e92c83f3a",
   "metadata": {},
   "source": [
    "### While buliding a language translator, two problems has to be solved \n",
    "1. Identifying the Language.\n",
    "2. Converting the identified Language to desired text."
   ]
  },
  {
   "cell_type": "markdown",
   "id": "1cfbf57d-9ae3-4059-8df5-77f679dd7053",
   "metadata": {},
   "source": [
    "### First Problem is solved using a langdetect module"
   ]
  },
  {
   "cell_type": "code",
   "execution_count": 1,
   "id": "e6e68e57-e198-4d9a-b653-267202b6b8ba",
   "metadata": {},
   "outputs": [],
   "source": [
    "lang={'af': 'afrikaans', 'sq': 'albanian', 'am': 'amharic', 'ar': 'arabic', 'hy': 'armenian', 'az': 'azerbaijani', 'eu': 'basque', 'be': 'belarusian', 'bn': 'bengali', 'bs': 'bosnian', 'bg': 'bulgarian', 'ca': 'catalan', 'ceb': 'cebuano', 'ny': 'chichewa', 'zh-cn': 'chinese (simplified)', 'zh-tw': 'chinese (traditional)', 'co': 'corsican', 'hr': 'croatian', 'cs': 'czech', 'da': 'danish', 'nl': 'dutch', 'en': 'english', 'eo': 'esperanto', 'et': 'estonian', 'tl': 'filipino', 'fi': 'finnish', 'fr': 'french', 'fy': 'frisian', 'gl': 'galician', 'ka': 'georgian', 'de': 'german', 'el': 'greek', 'gu': 'gujarati', 'ht': 'haitian creole', 'ha': 'hausa', 'haw': 'hawaiian', 'iw': 'hebrew', 'hi': 'hindi', 'hmn': 'hmong', 'hu': 'hungarian', 'is': 'icelandic', 'ig': 'igbo', 'id': 'indonesian', 'ga': 'irish', 'it': 'italian', 'ja': 'japanese', 'jw': 'javanese', 'kn': 'kannada', 'kk': 'kazakh', 'km': 'khmer', 'ko': 'korean', 'ku': 'kurdish (kurmanji)', 'ky': 'kyrgyz', 'lo': 'lao', 'la': 'latin', 'lv': 'latvian', 'lt': 'lithuanian', 'lb': 'luxembourgish', 'mk': 'macedonian', 'mg': 'malagasy', 'ms': 'malay', 'ml': 'malayalam', 'mt': 'maltese', 'mi': 'maori', 'mr': 'marathi', 'mn': 'mongolian', 'my': 'myanmar (burmese)', 'ne': 'nepali', 'no': 'norwegian', 'ps': 'pashto', 'fa': 'persian', 'pl': 'polish', 'pt': 'portuguese', 'pa': 'punjabi', 'ro': 'romanian', 'ru': 'russian', 'sm': 'samoan', 'gd': 'scots gaelic', 'sr': 'serbian', 'st': 'sesotho', 'sn': 'shona', 'sd': 'sindhi', 'si': 'sinhala', 'sk': 'slovak', 'sl': 'slovenian', 'so': 'somali', 'es': 'spanish', 'su': 'sundanese', 'sw': 'swahili', 'sv': 'swedish', 'tg': 'tajik', 'ta': 'tamil', 'te': 'telugu', 'th': 'thai', 'tr': 'turkish', 'uk': 'ukrainian', 'ur': 'urdu', 'uz': 'uzbek', 'vi': 'vietnamese', 'cy': 'welsh', 'xh': 'xhosa', 'yi': 'yiddish', 'yo': 'yoruba', 'zu': 'zulu', 'fil': 'Filipino', 'he': 'Hebrew'}"
   ]
  },
  {
   "cell_type": "code",
   "execution_count": 2,
   "id": "161e235e-7af8-4652-b454-7f4918aafe6f",
   "metadata": {},
   "outputs": [
    {
     "name": "stdout",
     "output_type": "stream",
     "text": [
      "The Text is written in 'HI' Language\n"
     ]
    }
   ],
   "source": [
    "from langdetect import detect, detect_langs\n",
    "from langdetect.detector_factory import DetectorFactory\n",
    "\n",
    "DetectorFactory.seed = 0\n",
    "\n",
    "input_text = \"मुझे तुमसे प्यार है\"\n",
    "output = detect(input_text)\n",
    "\n",
    "langs = detect_langs(input_text)\n",
    "\n",
    "for lang in langs:\n",
    "    if lang.lang == output:\n",
    "        print(f\"The Text is written in '{lang.lang.upper()}' Language\")\n",
    "\n",
    "\n",
    "# These are the codes available in langdetect : \n",
    "\n",
    "# af, ar, bg, bn, ca, cs, cy, da, de, el, en, es, et, fa, fi, fr, gu, he,\n",
    "# hi, hr, hu, id, it, ja, kn, ko, lt, lv, mk, ml, mr, ne, nl, no, pa, pl,\n",
    "# pt, ro, ru, sk, sl, so, sq, sv, sw, ta, te, th, tl, tr, uk, ur, vi, zh-cn, zh-tw"
   ]
  },
  {
   "cell_type": "markdown",
   "id": "cdef8d07-5dd9-4183-b48a-d41f99b019d5",
   "metadata": {},
   "source": [
    "### Converting the language in desired text"
   ]
  },
  {
   "cell_type": "code",
   "execution_count": 3,
   "id": "753434a4",
   "metadata": {},
   "outputs": [
    {
     "name": "stdout",
     "output_type": "stream",
     "text": [
      "Do you want to use voice input? (yes/no): no\n",
      "Enter the text you want to translate: hey\n",
      "Enter the target language (e.g., 'hi' for Hindi): hi\n",
      "Translated Text: अरे\n",
      "Do you want to translate another text? (yes/no): no\n"
     ]
    }
   ],
   "source": [
    "import speech_recognition as sr\n",
    "from deep_translator import GoogleTranslator\n",
    "from IPython.display import clear_output\n",
    "from gtts import gTTS\n",
    "import os\n",
    "\n",
    "def get_user_input():\n",
    "    recognizer = sr.Recognizer()\n",
    "    with sr.Microphone() as source:\n",
    "        recognizer.adjust_for_ambient_noise(source, duration=1)\n",
    "        print(\"Listening...\")\n",
    "        audio = recognizer.listen(source, timeout=5)\n",
    "        try:\n",
    "            text = recognizer.recognize_google(audio)\n",
    "            return text\n",
    "        except sr.UnknownValueError:\n",
    "            print(\"Sorry, I could not understand your audio. Please try again.\")\n",
    "        except sr.RequestError:\n",
    "            print(\"Sorry, I couldn't request results. Please check your internet connection.\")\n",
    "            return None\n",
    "\n",
    "def text_to_speech(text):\n",
    "    tts = gTTS(text)\n",
    "    tts.save(\"output.mp3\")\n",
    "    os.system(\"afplay output.mp3\")\n",
    "\n",
    "def listen_and_display():\n",
    "    recognizer = sr.Recognizer()\n",
    "    while True:\n",
    "        with sr.Microphone() as source:\n",
    "            recognizer.adjust_for_ambient_noise(source, duration=1)\n",
    "            print(\"Listening...\")\n",
    "            audio = recognizer.listen(source, timeout=5)\n",
    "            try:\n",
    "                text = recognizer.recognize_google(audio)\n",
    "                clear_output()\n",
    "                print(f\"You said: {text}\")\n",
    "            except sr.UnknownValueError:\n",
    "                print(\"Listening...\")\n",
    "            except sr.RequestError:\n",
    "                print(\"Sorry, I couldn't request results. Please check your internet connection.\")\n",
    "\n",
    "def get_translation():\n",
    "    while True:\n",
    "        clear_output()  # Clear previous output\n",
    "\n",
    "        # Ask the user if they want to use voice input or type\n",
    "        input_method = input(\"Do you want to use voice input? (yes/no): \").lower()\n",
    "\n",
    "        if input_method == 'yes':\n",
    "            # Get user input using voice\n",
    "            user_input = get_user_input()\n",
    "            if user_input is not None:\n",
    "                translated_text = user_input\n",
    "                print(f\"{translated_text}\")\n",
    "        else:\n",
    "            # Get user input by typing\n",
    "            translated_text = input(\"Enter the text you want to translate: \")\n",
    "\n",
    "        # Take user input for the target language\n",
    "        language = input(\"Enter the target language (e.g., 'hi' for Hindi): \")\n",
    "\n",
    "        # Translate the text\n",
    "        translated_text = GoogleTranslator(source='auto', target=language).translate(translated_text)\n",
    "        print(f\"Translated Text: {translated_text}\")\n",
    "\n",
    "        # Convert translated text to speech\n",
    "        text_to_speech(translated_text)\n",
    "\n",
    "        # Ask if the user wants to translate another text or reset\n",
    "        user_choice = input(\"Do you want to translate another text? (yes/no): \")\n",
    "\n",
    "        if user_choice.lower() == 'yes':\n",
    "            print(\"Resetting...\")\n",
    "            translated_text = \"\"\n",
    "        else:\n",
    "            break\n",
    "\n",
    "# Start the translation process\n",
    "get_translation()\n"
   ]
  },
  {
   "cell_type": "code",
   "execution_count": 4,
   "id": "d95ae93e",
   "metadata": {},
   "outputs": [],
   "source": [
    "import tkinter as tk\n",
    "from langdetect import detect\n",
    "from deep_translator import GoogleTranslator\n",
    "from gtts import gTTS\n",
    "import os\n",
    "from IPython.display import clear_output\n",
    "\n",
    "class MyTranslatorApp:\n",
    "    def __init__(self, root):\n",
    "        self.root = root\n",
    "        self.root.title(\"MyTranslator App\")\n",
    "        \n",
    "        self.create_widgets()\n",
    "\n",
    "    def create_widgets(self):\n",
    "        # Label\n",
    "        self.label = tk.Label(self.root, text=\"Enter the text you want to translate:\")\n",
    "        self.label.pack(pady=10)\n",
    "\n",
    "        # Text Entry\n",
    "        self.text_entry = tk.Entry(self.root, width=40)\n",
    "        self.text_entry.pack(pady=10)\n",
    "\n",
    "        # Translate Button\n",
    "        self.translate_button = tk.Button(self.root, text=\"Translate\", command=self.translate_text)\n",
    "        self.translate_button.pack(pady=10)\n",
    "\n",
    "        # Label for Translated Text\n",
    "        self.translated_label = tk.Label(self.root, text=\"\")\n",
    "        self.translated_label.pack(pady=10)\n",
    "\n",
    "    def translate_text(self):\n",
    "        user_input = self.text_entry.get()\n",
    "\n",
    "        if user_input:\n",
    "            # Detect language\n",
    "            detected_language = detect(user_input)\n",
    "\n",
    "            # Translate the text\n",
    "            translated_text = GoogleTranslator(source=detected_language, target='en').translate(user_input)\n",
    "\n",
    "            # Display translated text\n",
    "            self.translated_label.config(text=f\"Detected Language: {detected_language}\\nTranslated Text: {translated_text}\")\n",
    "\n",
    "            # Convert translated text to speech\n",
    "            tts = gTTS(translated_text)\n",
    "            tts.save(\"output.mp3\")\n",
    "            os.system(\"afplay output.mp3\")\n",
    "        else:\n",
    "            self.translated_label.config(text=\"Please enter text for translation.\")\n",
    "\n",
    "if __name__ == \"__main__\":\n",
    "    root = tk.Tk()\n",
    "    app = MyTranslatorApp(root)\n",
    "    root.mainloop()"
   ]
  },
  {
   "cell_type": "code",
   "execution_count": null,
   "id": "6a4fc338",
   "metadata": {},
   "outputs": [],
   "source": []
  }
 ],
 "metadata": {
  "kernelspec": {
   "display_name": "Python 3 (ipykernel)",
   "language": "python",
   "name": "python3"
  },
  "language_info": {
   "codemirror_mode": {
    "name": "ipython",
    "version": 3
   },
   "file_extension": ".py",
   "mimetype": "text/x-python",
   "name": "python",
   "nbconvert_exporter": "python",
   "pygments_lexer": "ipython3",
   "version": "3.11.4"
  }
 },
 "nbformat": 4,
 "nbformat_minor": 5
}
